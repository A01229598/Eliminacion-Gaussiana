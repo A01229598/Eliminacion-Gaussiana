{
 "cells": [
  {
   "cell_type": "code",
   "execution_count": 1,
   "metadata": {
    "collapsed": false
   },
   "outputs": [
    {
     "name": "stdout",
     "output_type": "stream",
     "text": [
      "EG [[1.0, 1.0, 1.0, 1100.0], [0.0, 1.0, 0.75, 850.0], [0.0, 0.0, 1.0, 600.0]]\n",
      "[[100.0], [400.0], [600.0]]\n"
     ]
    }
   ],
   "source": [
    "#  Hugo, Paco y Luis tienen diferentes cantidades de dinero. Paco tiene tres veces lo que tiene Hugo más $100.00, Luis tiene el doble de lo que tiene Paco quitándole $200.00 a dicha cantidad, y entre todos reúnen $1,100.00. ¿Cuánto dinero tiene cada uno? (Eliminación Gaussiana)\n",
    "def createMatriz(m,n,v):\n",
    "    C = []\n",
    "    for i in range(m):\n",
    "        C.append([])\n",
    "        for j in range(n):\n",
    "            C[i].append(v)\n",
    "    return C\n",
    "\n",
    "MA = createMatriz(3,4,0)\n",
    "MA[0] = [1,1,1,1100]\n",
    "MA[1] = [-3,1,0,100]\n",
    "MA[2] = [0,-2,1,-200]\n",
    "\n",
    "MAm = 3\n",
    "MAn = 4\n",
    "for i in range(MAm):\n",
    "    pivote = MA[i][i]\n",
    "    if pivote == 0:\n",
    "        for j in range(i+1, MAm):\n",
    "            pivote = MA[j][i]\n",
    "            if pivote != 0:\n",
    "                T = MA[i]\n",
    "                MA[i] = MA[j]\n",
    "                MA[j] = T\n",
    "                break\n",
    "    for k in range(MAn):\n",
    "        MA[i][k] = (1/pivote)*MA[i][k]\n",
    "    for j in range(i+1, MAm):\n",
    "        c = -1*MA[j][i]\n",
    "        T = createMatriz(1,MAn,0)\n",
    "        for k in range(MAn):\n",
    "            T[0][k] = c*MA[i][k]\n",
    "        for k in range(MAn):\n",
    "            MA[j][k] += T[0][k]\n",
    "\n",
    "print(\"EG\", MA)\n",
    "B = createMatriz(3,1,0)\n",
    "for i in range(MAm-1,-1,-1):\n",
    "    B[i][0] = MA[i][MAn-1]\n",
    "    for j in range(MAn-2,-1,-1):\n",
    "        if i == j:\n",
    "            break\n",
    "        B[i][0] -= MA[i][j]*B[j][0]\n",
    "        \n",
    "print(B)"
   ]
  },
  {
   "cell_type": "code",
   "execution_count": 1,
   "metadata": {
    "collapsed": false
   },
   "outputs": [
    {
     "name": "stdout",
     "output_type": "stream",
     "text": [
      "EG [[1.0, 0.25, -0.25, 0.0], [0.0, 1.0, 0.5555555555555556, 0.6666666666666666], [0.0, 0.0, 1.0, 3.0000000000000004]]\n",
      "[[1.0000000000000002], [-1.0000000000000004], [3.0000000000000004]]\n"
     ]
    }
   ],
   "source": [
    "def createMatriz(m,n,v):\n",
    "    C = []\n",
    "    for i in range(m):\n",
    "        C.append([])\n",
    "        for j in range(n):\n",
    "            C[i].append(v)\n",
    "    return C\n",
    "\n",
    "MA = createMatriz(3,4,0)\n",
    "MA[0] = [4,1,-1,0]\n",
    "MA[1] = [2,5,2,3]\n",
    "MA[2] = [1,2,4,11]\n",
    "\n",
    "MAm = 3\n",
    "MAn = 4\n",
    "for i in range(MAm):\n",
    "    pivote = MA[i][i]\n",
    "    if pivote == 0:\n",
    "        for j in range(i+1, MAm):\n",
    "            pivote = MA[j][i]\n",
    "            if pivote != 0:\n",
    "                T = MA[i]\n",
    "                MA[i] = MA[j]\n",
    "                MA[j] = T\n",
    "                break\n",
    "    for k in range(MAn):\n",
    "        MA[i][k] = (1/pivote)*MA[i][k]\n",
    "    for j in range(i+1, MAm):\n",
    "        c = -1*MA[j][i]\n",
    "        T = createMatriz(1,MAn,0)\n",
    "        for k in range(MAn):\n",
    "            T[0][k] = c*MA[i][k]\n",
    "        for k in range(MAn):\n",
    "            MA[j][k] += T[0][k]\n",
    "\n",
    "print(\"EG\", MA)\n",
    "B = createMatriz(3,1,0)\n",
    "for i in range(MAm-1,-1,-1):\n",
    "    B[i][0] = MA[i][MAn-1]\n",
    "    for j in range(MAn-2,-1,-1):\n",
    "        if i == j:\n",
    "            break\n",
    "        B[i][0] -= MA[i][j]*B[j][0]\n",
    "        \n",
    "print(B)"
   ]
  },
  {
   "cell_type": "code",
   "execution_count": 2,
   "metadata": {
    "collapsed": false
   },
   "outputs": [
    {
     "name": "stdout",
     "output_type": "stream",
     "text": [
      "EG [[1.0, 1.0, 1.0, 120.0], [0.0, 1.0, 0.0, 30.0], [-0.0, -0.0, 1.0, 40.0]]\n",
      "[[50.0], [30.0], [40.0]]\n"
     ]
    }
   ],
   "source": [
    "#Gabriela (la panadera) vendió 120 piezas de pan entre pan de muerto, panqués y cocoles, la suma de los panes de muerto más los panqués es el doble que los cocoles; los panes de muerto y los cocoles cuestan 3 pesos y los panqués 5 pesos. Si lo que se juntó fueron 420 pesos, ¿cuántos panes fueron de cada uno? (Eliminación Gaussiana)\n",
    "\n",
    "def createMatriz(m,n,v):\n",
    "    C = []\n",
    "    for i in range(m):\n",
    "        C.append([])\n",
    "        for j in range(n):\n",
    "            C[i].append(v)\n",
    "    return C\n",
    "\n",
    "MA = createMatriz(3,4,0)\n",
    "MA[0] = [1,1,1,120]\n",
    "MA[1] = [1,1,-2,0]\n",
    "MA[2] = [3,5,3,420]\n",
    "\n",
    "MAm = 3\n",
    "MAn = 4\n",
    "for i in range(MAm):\n",
    "    pivote = MA[i][i]\n",
    "    if pivote == 0:\n",
    "        for j in range(i+1, MAm):\n",
    "            pivote = MA[j][i]\n",
    "            if pivote != 0:\n",
    "                T = MA[i]\n",
    "                MA[i] = MA[j]\n",
    "                MA[j] = T\n",
    "                break\n",
    "    for k in range(MAn):\n",
    "        MA[i][k] = (1/pivote)*MA[i][k]\n",
    "    for j in range(i+1, MAm):\n",
    "        c = -1*MA[j][i]\n",
    "        T = createMatriz(1,MAn,0)\n",
    "        for k in range(MAn):\n",
    "            T[0][k] = c*MA[i][k]\n",
    "        for k in range(MAn):\n",
    "            MA[j][k] += T[0][k]\n",
    "\n",
    "print(\"EG\", MA)\n",
    "B = createMatriz(3,1,0)\n",
    "for i in range(MAm-1,-1,-1):\n",
    "    B[i][0] = MA[i][MAn-1]\n",
    "    for j in range(MAn-2,-1,-1):\n",
    "        if i == j:\n",
    "            break\n",
    "        B[i][0] -= MA[i][j]*B[j][0]\n",
    "        \n",
    "print(B)"
   ]
  }
 ],
 "metadata": {
  "kernelspec": {
   "display_name": "Python 3 (Anaconda 5)",
   "language": "python",
   "name": "anaconda5"
  },
  "language_info": {
   "codemirror_mode": {
    "name": "ipython",
    "version": 3
   },
   "file_extension": ".py",
   "mimetype": "text/x-python",
   "name": "python",
   "nbconvert_exporter": "python",
   "pygments_lexer": "ipython3",
   "version": "3.6.5"
  }
 },
 "nbformat": 4,
 "nbformat_minor": 0
}